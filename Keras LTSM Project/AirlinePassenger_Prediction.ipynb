{
 "cells": [
  {
   "cell_type": "markdown",
   "id": "0e60810c",
   "metadata": {},
   "source": [
    "### AIRLINE PASSENGER (TIME SERIES) PREDICTION USING LSTM\n",
    "\n",
    "We will use Airline Passenger dataset for this project. This dataset provides monthly totals of a US airline passengers from 1949 to 1960.\n",
    "\n",
    "We will utilize the LSTM deep learning model for this project. The Long Short-Term Memory network, known as LSTM network, is a type of recurrent neural network (RNN) that is trained using Backpropagation through time, effectively addressing the issue of vanishing gradients. LSTM networks excel in tackling complex sequential problems in machine learning and achieve cutting-edge outcomes. Instead of conventional neurons, LSTM networks incorporate memory blocks interconnected across layers.\n",
    "\n",
    "#### Aim of the project:\n",
    "Provided the count of travelers (in thousands) during the previous two months, what is the projected passenger count for the upcoming month? To tackle this issue, we will construct an LSTM model and train it using our training data comprising the initial 100 months from our dataset. Following the completion of LSTM model training and its acquisition of the temporal patterns within the training data, we will pose the aforementioned question to the model and retrieve the answer."
   ]
  },
  {
   "cell_type": "code",
   "execution_count": 1,
   "id": "fbcb8878",
   "metadata": {},
   "outputs": [],
   "source": [
    "import pandas as pd\n",
    "import numpy as np\n",
    "import matplotlib.pyplot as plt\n",
    "import tensorflow as tf\n",
    "from tensorflow.keras.layers import Dense,LSTM  \n",
    "from tensorflow.keras.models import Sequential  \n",
    "from sklearn.preprocessing import MinMaxScaler  \n",
    "                                                \n",
    "                                               "
   ]
  },
  {
   "cell_type": "code",
   "execution_count": 2,
   "id": "a137b34f",
   "metadata": {},
   "outputs": [
    {
     "data": {
      "text/html": [
       "<div>\n",
       "<style scoped>\n",
       "    .dataframe tbody tr th:only-of-type {\n",
       "        vertical-align: middle;\n",
       "    }\n",
       "\n",
       "    .dataframe tbody tr th {\n",
       "        vertical-align: top;\n",
       "    }\n",
       "\n",
       "    .dataframe thead th {\n",
       "        text-align: right;\n",
       "    }\n",
       "</style>\n",
       "<table border=\"1\" class=\"dataframe\">\n",
       "  <thead>\n",
       "    <tr style=\"text-align: right;\">\n",
       "      <th></th>\n",
       "      <th>Month</th>\n",
       "      <th>#Passengers</th>\n",
       "    </tr>\n",
       "  </thead>\n",
       "  <tbody>\n",
       "    <tr>\n",
       "      <th>0</th>\n",
       "      <td>1949-01</td>\n",
       "      <td>112</td>\n",
       "    </tr>\n",
       "    <tr>\n",
       "      <th>1</th>\n",
       "      <td>1949-02</td>\n",
       "      <td>118</td>\n",
       "    </tr>\n",
       "    <tr>\n",
       "      <th>2</th>\n",
       "      <td>1949-03</td>\n",
       "      <td>132</td>\n",
       "    </tr>\n",
       "    <tr>\n",
       "      <th>3</th>\n",
       "      <td>1949-04</td>\n",
       "      <td>129</td>\n",
       "    </tr>\n",
       "    <tr>\n",
       "      <th>4</th>\n",
       "      <td>1949-05</td>\n",
       "      <td>121</td>\n",
       "    </tr>\n",
       "  </tbody>\n",
       "</table>\n",
       "</div>"
      ],
      "text/plain": [
       "     Month  #Passengers\n",
       "0  1949-01          112\n",
       "1  1949-02          118\n",
       "2  1949-03          132\n",
       "3  1949-04          129\n",
       "4  1949-05          121"
      ]
     },
     "execution_count": 2,
     "metadata": {},
     "output_type": "execute_result"
    }
   ],
   "source": [
    "data = pd.read_csv('AirPassengers.csv')\n",
    "data.head()"
   ]
  },
  {
   "cell_type": "code",
   "execution_count": 3,
   "id": "dfa2dc13",
   "metadata": {},
   "outputs": [],
   "source": [
    "data.rename(columns={'#Passengers':'passengers'},inplace=True)\n",
    "data = data['passengers']\n"
   ]
  },
  {
   "cell_type": "code",
   "execution_count": 4,
   "id": "6902e839",
   "metadata": {},
   "outputs": [
    {
     "data": {
      "text/plain": [
       "pandas.core.series.Series"
      ]
     },
     "execution_count": 4,
     "metadata": {},
     "output_type": "execute_result"
    }
   ],
   "source": [
    "type(data)"
   ]
  },
  {
   "cell_type": "code",
   "execution_count": 5,
   "id": "e9ee09bb",
   "metadata": {},
   "outputs": [
    {
     "data": {
      "text/plain": [
       "0      112\n",
       "1      118\n",
       "2      132\n",
       "3      129\n",
       "4      121\n",
       "      ... \n",
       "139    606\n",
       "140    508\n",
       "141    461\n",
       "142    390\n",
       "143    432\n",
       "Name: passengers, Length: 144, dtype: int64"
      ]
     },
     "execution_count": 5,
     "metadata": {},
     "output_type": "execute_result"
    }
   ],
   "source": [
    "data"
   ]
  },
  {
   "cell_type": "markdown",
   "id": "23624fc8",
   "metadata": {},
   "source": [
    "Since your data is currently in Series format, you can convert it to a 2D array by using the values attribute of the Series object. This will give you a numpy array representation of your data. Once you have the numpy array, you can reshape it as needed."
   ]
  },
  {
   "cell_type": "code",
   "execution_count": 6,
   "id": "ea50b9f6",
   "metadata": {},
   "outputs": [],
   "source": [
    "data=np.array(data).reshape(-1,1)"
   ]
  },
  {
   "cell_type": "code",
   "execution_count": 7,
   "id": "cb6ccb78",
   "metadata": {},
   "outputs": [
    {
     "data": {
      "text/plain": [
       "numpy.ndarray"
      ]
     },
     "execution_count": 7,
     "metadata": {},
     "output_type": "execute_result"
    }
   ],
   "source": [
    "#now we have 2D numpy array...\n",
    "type(data)"
   ]
  },
  {
   "cell_type": "code",
   "execution_count": 8,
   "id": "c9a395c2",
   "metadata": {},
   "outputs": [
    {
     "data": {
      "image/png": "[encoded data removed]",
      "text/plain": [
       "<Figure size 640x480 with 1 Axes>"
      ]
     },
     "metadata": {},
     "output_type": "display_data"
    }
   ],
   "source": [
    "\n",
    "plt.plot(data)\n",
    "plt.show()"
   ]
  },
  {
   "cell_type": "markdown",
   "id": "49a6069d",
   "metadata": {},
   "source": [
    "### Scaling..\n",
    "\n",
    "LSTM is sensitive to the scale of the input data. So we will rescale the data to the range of 0-to-1, also called normalizing. "
   ]
  },
  {
   "cell_type": "code",
   "execution_count": 9,
   "id": "8f15497a",
   "metadata": {},
   "outputs": [],
   "source": [
    "scaler = MinMaxScaler()\n",
    "data = scaler.fit_transform(data)"
   ]
  },
  {
   "cell_type": "markdown",
   "id": "613cad19",
   "metadata": {},
   "source": [
    "### Train, Test split"
   ]
  },
  {
   "cell_type": "code",
   "execution_count": 10,
   "id": "c5ee89a9",
   "metadata": {},
   "outputs": [
    {
     "data": {
      "text/plain": [
       "144"
      ]
     },
     "execution_count": 10,
     "metadata": {},
     "output_type": "execute_result"
    }
   ],
   "source": [
    "len(data)"
   ]
  },
  {
   "cell_type": "markdown",
   "id": "31ad060a",
   "metadata": {},
   "source": [
    "I have 144 data. I will use 100 of it as train set and 44 as test set."
   ]
  },
  {
   "cell_type": "code",
   "execution_count": 11,
   "id": "48850205",
   "metadata": {},
   "outputs": [],
   "source": [
    "train = data[0:100,:]\n",
    "test = data[100:,:]"
   ]
  },
  {
   "cell_type": "markdown",
   "id": "786bd015",
   "metadata": {},
   "source": [
    "### Description of the function below\n",
    "\n",
    "We will now define a function to prepare the train and test datasets for modeling. The function takes two arguments: the dataset, which is a NumPy array that we want to convert into a dataset, and the steps, which is the number of previous time steps to use as input variables to predict \n",
    "\n",
    "Let me explain the steps as follows:\n",
    "\n",
    "Empty lists dataX and dataY are created.\n",
    "\n",
    "The loop runs for the length of the data array minus the steps.\n",
    "\n",
    "At each step, input data is retrieved with the code data[i : i + steps]. This takes input data for the number of steps starting from a certain time step.\n",
    "\n",
    "The resulting input data is added to the dataX list.\n",
    "\n",
    "In the same step, the output data is received with the data[i + steps] code. This represents the target output value corresponding to the same input data.\n",
    "\n",
    "The resulting output data is added to the dataY list.\n",
    "\n",
    "Finally, the dataX and dataY lists are converted to numpy arrays using np.array().\n",
    "\n",
    "The output of this function is two numpy arrays called dataX and dataY. These sequences can be given as input to a machine learning model. can be used for training a model such as LSTM.\n",
    "The model takes the first 2 data and then organizes itself according to the 3rd data.\n",
    "model does this for the first 100 data.\n"
   ]
  },
  {
   "cell_type": "code",
   "execution_count": 22,
   "id": "551aaf73",
   "metadata": {},
   "outputs": [],
   "source": [
    "def get_data(data, steps):\n",
    "    dataX = []\n",
    "    dataY = []\n",
    "    for i in range(len(data) - steps):\n",
    "        a = data[i : i + steps]\n",
    "        dataX.append(a)\n",
    "        dataY.append(data[i + steps])\n",
    "    return np.array(dataX), np.array(dataY)"
   ]
  },
  {
   "cell_type": "markdown",
   "id": "e1e0c68d",
   "metadata": {},
   "source": [
    "So using this \"get_data\" function I will prepare a dataset for modeling... Then I give this new prepared datset to my model for training."
   ]
  },
  {
   "cell_type": "code",
   "execution_count": 23,
   "id": "4374c4c4",
   "metadata": {},
   "outputs": [],
   "source": [
    "steps = 2\n"
   ]
  },
  {
   "cell_type": "markdown",
   "id": "ee830a29",
   "metadata": {},
   "source": [
    "#### Now I'm making my datasets for both training and testing.."
   ]
  },
  {
   "cell_type": "code",
   "execution_count": 24,
   "id": "e9b313e3",
   "metadata": {},
   "outputs": [],
   "source": [
    "X_train, y_train = get_data(train, steps)\n",
    "X_test, y_test = get_data(test, steps)"
   ]
  },
  {
   "cell_type": "code",
   "execution_count": 25,
   "id": "354be95c",
   "metadata": {},
   "outputs": [],
   "source": [
    "# Im reshaping my sets for using in LSTM model..\n",
    "X_train = np.reshape(X_train, (X_train.shape[0], 1, X_train.shape[1]))\n",
    "X_test = np.reshape(X_test, (X_test.shape[0], 1, X_test.shape[1]))\n"
   ]
  },
  {
   "cell_type": "code",
   "execution_count": 26,
   "id": "2b73f163",
   "metadata": {},
   "outputs": [],
   "source": [
    "\n",
    "model = Sequential()\n",
    "model.add(LSTM(128, input_shape = (1, steps)))  # This is my first hidden layer with 128 memory blocks\n",
    "model.add(Dense(64))                                  # This is my second hidden layer with 64 memory blocks\n",
    "model.add(Dense(1))   # This is my output layer\n",
    "model.compile(loss = 'mean_squared_error', optimizer = 'adam')"
   ]
  },
  {
   "cell_type": "code",
   "execution_count": 27,
   "id": "0fbfac98",
   "metadata": {},
   "outputs": [
    {
     "name": "stdout",
     "output_type": "stream",
     "text": [
      "Model: \"sequential_1\"\n",
      "_________________________________________________________________\n",
      " Layer (type)                Output Shape              Param #   \n",
      "=================================================================\n",
      " lstm_1 (LSTM)               (None, 128)               67072     \n",
      "                                                                 \n",
      " dense_2 (Dense)             (None, 64)                8256      \n",
      "                                                                 \n",
      " dense_3 (Dense)             (None, 1)                 65        \n",
      "                                                                 \n",
      "=================================================================\n",
      "Total params: 75,393\n",
      "Trainable params: 75,393\n",
      "Non-trainable params: 0\n",
      "_________________________________________________________________\n"
     ]
    }
   ],
   "source": [
    "model.summary()"
   ]
  },
  {
   "cell_type": "markdown",
   "id": "13c0ae01",
   "metadata": {},
   "source": [
    "### Now it's time to train our model"
   ]
  },
  {
   "cell_type": "code",
   "execution_count": 28,
   "id": "7cacaf8a",
   "metadata": {},
   "outputs": [
    {
     "name": "stdout",
     "output_type": "stream",
     "text": [
      "Epoch 1/25\n",
      "98/98 [==============================] - 1s 1ms/step - loss: 0.0119\n",
      "Epoch 2/25\n",
      "98/98 [==============================] - 0s 1ms/step - loss: 0.0037\n",
      "Epoch 3/25\n",
      "98/98 [==============================] - 0s 1ms/step - loss: 0.0036\n",
      "Epoch 4/25\n",
      "98/98 [==============================] - 0s 1ms/step - loss: 0.0031\n",
      "Epoch 5/25\n",
      "98/98 [==============================] - 0s 1ms/step - loss: 0.0031\n",
      "Epoch 6/25\n",
      "98/98 [==============================] - 0s 1ms/step - loss: 0.0028\n",
      "Epoch 7/25\n",
      "98/98 [==============================] - 0s 1ms/step - loss: 0.0028\n",
      "Epoch 8/25\n",
      "98/98 [==============================] - 0s 1ms/step - loss: 0.0028\n",
      "Epoch 9/25\n",
      "98/98 [==============================] - 0s 1ms/step - loss: 0.0028\n",
      "Epoch 10/25\n",
      "98/98 [==============================] - 0s 1ms/step - loss: 0.0041\n",
      "Epoch 11/25\n",
      "98/98 [==============================] - 0s 1ms/step - loss: 0.0025\n",
      "Epoch 12/25\n",
      "98/98 [==============================] - 0s 1ms/step - loss: 0.0025\n",
      "Epoch 13/25\n",
      "98/98 [==============================] - 0s 1ms/step - loss: 0.0027\n",
      "Epoch 14/25\n",
      "98/98 [==============================] - 0s 1ms/step - loss: 0.0026\n",
      "Epoch 15/25\n",
      "98/98 [==============================] - 0s 1ms/step - loss: 0.0027\n",
      "Epoch 16/25\n",
      "98/98 [==============================] - 0s 1ms/step - loss: 0.0023\n",
      "Epoch 17/25\n",
      "98/98 [==============================] - 0s 1ms/step - loss: 0.0026\n",
      "Epoch 18/25\n",
      "98/98 [==============================] - 0s 1ms/step - loss: 0.0026\n",
      "Epoch 19/25\n",
      "98/98 [==============================] - 0s 1ms/step - loss: 0.0024\n",
      "Epoch 20/25\n",
      "98/98 [==============================] - 0s 1ms/step - loss: 0.0034\n",
      "Epoch 21/25\n",
      "98/98 [==============================] - 0s 1ms/step - loss: 0.0028\n",
      "Epoch 22/25\n",
      "98/98 [==============================] - 0s 1ms/step - loss: 0.0025\n",
      "Epoch 23/25\n",
      "98/98 [==============================] - 0s 2ms/step - loss: 0.0025\n",
      "Epoch 24/25\n",
      "98/98 [==============================] - 0s 1ms/step - loss: 0.0024\n",
      "Epoch 25/25\n",
      "98/98 [==============================] - 0s 1ms/step - loss: 0.0026\n"
     ]
    },
    {
     "data": {
      "text/plain": [
       "<keras.callbacks.History at 0x1e044189d80>"
      ]
     },
     "execution_count": 28,
     "metadata": {},
     "output_type": "execute_result"
    }
   ],
   "source": [
    "model.fit(X_train, y_train, epochs=25, batch_size=1)"
   ]
  },
  {
   "cell_type": "markdown",
   "id": "d95e2366",
   "metadata": {},
   "source": [
    "### Let's make prediction.."
   ]
  },
  {
   "cell_type": "code",
   "execution_count": 29,
   "id": "bde23567",
   "metadata": {},
   "outputs": [
    {
     "name": "stdout",
     "output_type": "stream",
     "text": [
      "2/2 [==============================] - 0s 2ms/step\n"
     ]
    }
   ],
   "source": [
    "y_pred = model.predict(X_test)"
   ]
  },
  {
   "cell_type": "markdown",
   "id": "b76ab3f2",
   "metadata": {},
   "source": [
    "We should rescale the prediction results, because our model gives us scaled predictions.."
   ]
  },
  {
   "cell_type": "code",
   "execution_count": 30,
   "id": "b4a0787d",
   "metadata": {},
   "outputs": [],
   "source": [
    "y_pred = scaler.inverse_transform(y_pred)\n",
    "y_test = y_test.reshape(-1, 1)\n",
    "y_test = scaler.inverse_transform(y_test)"
   ]
  },
  {
   "cell_type": "markdown",
   "id": "e88918b2",
   "metadata": {},
   "source": [
    "### Now plot the test set results... Remember our test set contains last 44 data in original dataset.."
   ]
  },
  {
   "cell_type": "code",
   "execution_count": 31,
   "id": "08ae8e7e",
   "metadata": {},
   "outputs": [
    {
     "data": {
      "image/png": "[encoded data removed]",
      "text/plain": [
       "<Figure size 640x480 with 1 Axes>"
      ]
     },
     "metadata": {},
     "output_type": "display_data"
    }
   ],
   "source": [
    "# plot real number of passengers and predictions...\n",
    "plt.plot(y_test, label = 'real number of passengers')\n",
    "plt.plot(y_pred, label = 'predicted number of passengers')\n",
    "plt.ylabel('Months')\n",
    "plt.ylabel('Number of passengers')\n",
    "plt.legend()\n",
    "plt.show()"
   ]
  }
 ],
 "metadata": {
  "kernelspec": {
   "display_name": "Python 3 (ipykernel)",
   "language": "python",
   "name": "python3"
  },
  "language_info": {
   "codemirror_mode": {
    "name": "ipython",
    "version": 3
   },
   "file_extension": ".py",
   "mimetype": "text/x-python",
   "name": "python",
   "nbconvert_exporter": "python",
   "pygments_lexer": "ipython3",
   "version": "3.10.5"
  }
 },
 "nbformat": 4,
 "nbformat_minor": 5
}
