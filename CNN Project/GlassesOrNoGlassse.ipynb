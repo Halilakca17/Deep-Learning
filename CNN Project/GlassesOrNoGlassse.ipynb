{
 "cells": [
  {
   "attachments": {},
   "cell_type": "markdown",
   "metadata": {},
   "source": [
    "## In this project, we will use the CNN algorithm to predict whether the photos of people are with or without glasses."
   ]
  },
  {
   "cell_type": "code",
   "execution_count": 2,
   "metadata": {},
   "outputs": [],
   "source": [
    "import tensorflow as tf\n",
    "from keras.preprocessing.image import ImageDataGenerator"
   ]
  },
  {
   "attachments": {},
   "cell_type": "markdown",
   "metadata": {},
   "source": [
    "## Part 1 - Data Preprocessing"
   ]
  },
  {
   "cell_type": "code",
   "execution_count": 3,
   "metadata": {},
   "outputs": [
    {
     "name": "stdout",
     "output_type": "stream",
     "text": [
      "Found 104 images belonging to 2 classes.\n"
     ]
    }
   ],
   "source": [
    "train_datagen = ImageDataGenerator(rescale = 1./255,\n",
    "                                   shear_range = 0.2,\n",
    "                                   zoom_range = 0.2,\n",
    "                                   horizontal_flip = True)\n",
    "training_set = train_datagen.flow_from_directory('train',\n",
    "                                                 target_size = (64, 64),\n",
    "                                                 batch_size = 32,\n",
    "                                                 class_mode = 'binary')"
   ]
  },
  {
   "cell_type": "code",
   "execution_count": 4,
   "metadata": {},
   "outputs": [
    {
     "name": "stdout",
     "output_type": "stream",
     "text": [
      "Found 20 images belonging to 2 classes.\n"
     ]
    }
   ],
   "source": [
    "test_datagen = ImageDataGenerator(rescale = 1./255)\n",
    "test_set = test_datagen.flow_from_directory('test',\n",
    "                                            target_size = (64, 64),\n",
    "                                            batch_size = 32,\n",
    "                                            class_mode = 'binary')"
   ]
  },
  {
   "attachments": {},
   "cell_type": "markdown",
   "metadata": {},
   "source": [
    "## Part 2 - Building the CNN"
   ]
  },
  {
   "cell_type": "code",
   "execution_count": 5,
   "metadata": {},
   "outputs": [],
   "source": [
    "cnn = tf.keras.models.Sequential()"
   ]
  },
  {
   "attachments": {},
   "cell_type": "markdown",
   "metadata": {},
   "source": [
    "### Convolution"
   ]
  },
  {
   "cell_type": "code",
   "execution_count": 6,
   "metadata": {},
   "outputs": [],
   "source": [
    "cnn.add(tf.keras.layers.Conv2D(filters=32, kernel_size=3, activation='relu', input_shape=[64, 64, 3]))"
   ]
  },
  {
   "attachments": {},
   "cell_type": "markdown",
   "metadata": {},
   "source": [
    "### Step 2 - Pooling"
   ]
  },
  {
   "cell_type": "code",
   "execution_count": 7,
   "metadata": {},
   "outputs": [],
   "source": [
    "cnn.add(tf.keras.layers.MaxPool2D(pool_size=2, strides=2))"
   ]
  },
  {
   "attachments": {},
   "cell_type": "markdown",
   "metadata": {},
   "source": [
    "### - Adding a second convolutional layer"
   ]
  },
  {
   "cell_type": "code",
   "execution_count": 8,
   "metadata": {},
   "outputs": [],
   "source": [
    "cnn.add(tf.keras.layers.Conv2D(filters=32, kernel_size=3, activation='relu'))\n",
    "cnn.add(tf.keras.layers.MaxPool2D(pool_size=2, strides=2))"
   ]
  },
  {
   "attachments": {},
   "cell_type": "markdown",
   "metadata": {},
   "source": [
    "### - Flattening"
   ]
  },
  {
   "cell_type": "code",
   "execution_count": 9,
   "metadata": {},
   "outputs": [],
   "source": [
    "cnn.add(tf.keras.layers.Flatten())"
   ]
  },
  {
   "attachments": {},
   "cell_type": "markdown",
   "metadata": {},
   "source": [
    "### - Full Connection"
   ]
  },
  {
   "cell_type": "code",
   "execution_count": 10,
   "metadata": {},
   "outputs": [],
   "source": [
    "cnn.add(tf.keras.layers.Dense(units=128, activation='relu'))"
   ]
  },
  {
   "attachments": {},
   "cell_type": "markdown",
   "metadata": {},
   "source": [
    "###  - Output Layer"
   ]
  },
  {
   "cell_type": "code",
   "execution_count": 11,
   "metadata": {},
   "outputs": [],
   "source": [
    "cnn.add(tf.keras.layers.Dense(units=1, activation='sigmoid'))"
   ]
  },
  {
   "attachments": {},
   "cell_type": "markdown",
   "metadata": {},
   "source": [
    "## Part 3 - Training the CNN"
   ]
  },
  {
   "cell_type": "code",
   "execution_count": 12,
   "metadata": {},
   "outputs": [],
   "source": [
    "cnn.compile(optimizer = 'adam', loss = 'binary_crossentropy', metrics = ['accuracy'])"
   ]
  },
  {
   "cell_type": "code",
   "execution_count": 13,
   "metadata": {},
   "outputs": [
    {
     "name": "stdout",
     "output_type": "stream",
     "text": [
      "Epoch 1/25\n",
      "4/4 [==============================] - 1s 158ms/step - loss: 0.7869 - accuracy: 0.4423 - val_loss: 0.6929 - val_accuracy: 0.5000\n",
      "Epoch 2/25\n",
      "4/4 [==============================] - 0s 105ms/step - loss: 0.6983 - accuracy: 0.5000 - val_loss: 0.7008 - val_accuracy: 0.5000\n",
      "Epoch 3/25\n",
      "4/4 [==============================] - 0s 86ms/step - loss: 0.6977 - accuracy: 0.5000 - val_loss: 0.6842 - val_accuracy: 0.5000\n",
      "Epoch 4/25\n",
      "4/4 [==============================] - 0s 79ms/step - loss: 0.6828 - accuracy: 0.6058 - val_loss: 0.6728 - val_accuracy: 0.8000\n",
      "Epoch 5/25\n",
      "4/4 [==============================] - 0s 82ms/step - loss: 0.6748 - accuracy: 0.6923 - val_loss: 0.6517 - val_accuracy: 0.8000\n",
      "Epoch 6/25\n",
      "4/4 [==============================] - 0s 107ms/step - loss: 0.6501 - accuracy: 0.6827 - val_loss: 0.6259 - val_accuracy: 0.8500\n",
      "Epoch 7/25\n",
      "4/4 [==============================] - 0s 114ms/step - loss: 0.6285 - accuracy: 0.7308 - val_loss: 0.5828 - val_accuracy: 0.8000\n",
      "Epoch 8/25\n",
      "4/4 [==============================] - 0s 82ms/step - loss: 0.5863 - accuracy: 0.8365 - val_loss: 0.5063 - val_accuracy: 0.8000\n",
      "Epoch 9/25\n",
      "4/4 [==============================] - 0s 101ms/step - loss: 0.5757 - accuracy: 0.6731 - val_loss: 0.4319 - val_accuracy: 0.9000\n",
      "Epoch 10/25\n",
      "4/4 [==============================] - 0s 83ms/step - loss: 0.5155 - accuracy: 0.7981 - val_loss: 0.5010 - val_accuracy: 0.8000\n",
      "Epoch 11/25\n",
      "4/4 [==============================] - 0s 106ms/step - loss: 0.4889 - accuracy: 0.8365 - val_loss: 0.3407 - val_accuracy: 0.8500\n",
      "Epoch 12/25\n",
      "4/4 [==============================] - 0s 83ms/step - loss: 0.4339 - accuracy: 0.8269 - val_loss: 0.2581 - val_accuracy: 0.9000\n",
      "Epoch 13/25\n",
      "4/4 [==============================] - 0s 82ms/step - loss: 0.3638 - accuracy: 0.8750 - val_loss: 0.2104 - val_accuracy: 0.9000\n",
      "Epoch 14/25\n",
      "4/4 [==============================] - 0s 106ms/step - loss: 0.3289 - accuracy: 0.8750 - val_loss: 0.1790 - val_accuracy: 0.9500\n",
      "Epoch 15/25\n",
      "4/4 [==============================] - 0s 79ms/step - loss: 0.3265 - accuracy: 0.8942 - val_loss: 0.1917 - val_accuracy: 0.9000\n",
      "Epoch 16/25\n",
      "4/4 [==============================] - 0s 83ms/step - loss: 0.3363 - accuracy: 0.8462 - val_loss: 0.1029 - val_accuracy: 0.9500\n",
      "Epoch 17/25\n",
      "4/4 [==============================] - 0s 83ms/step - loss: 0.2837 - accuracy: 0.8654 - val_loss: 0.1279 - val_accuracy: 0.9500\n",
      "Epoch 18/25\n",
      "4/4 [==============================] - 0s 106ms/step - loss: 0.2604 - accuracy: 0.8750 - val_loss: 0.1445 - val_accuracy: 0.9500\n",
      "Epoch 19/25\n",
      "4/4 [==============================] - 0s 82ms/step - loss: 0.2355 - accuracy: 0.8942 - val_loss: 0.1625 - val_accuracy: 0.9000\n",
      "Epoch 20/25\n",
      "4/4 [==============================] - 0s 94ms/step - loss: 0.2061 - accuracy: 0.8942 - val_loss: 0.1516 - val_accuracy: 0.9000\n",
      "Epoch 21/25\n",
      "4/4 [==============================] - 0s 82ms/step - loss: 0.1898 - accuracy: 0.9231 - val_loss: 0.1019 - val_accuracy: 0.9500\n",
      "Epoch 22/25\n",
      "4/4 [==============================] - 0s 106ms/step - loss: 0.1601 - accuracy: 0.9423 - val_loss: 0.0848 - val_accuracy: 0.9500\n",
      "Epoch 23/25\n",
      "4/4 [==============================] - 0s 78ms/step - loss: 0.1710 - accuracy: 0.9327 - val_loss: 0.0784 - val_accuracy: 0.9500\n",
      "Epoch 24/25\n",
      "4/4 [==============================] - 0s 104ms/step - loss: 0.1987 - accuracy: 0.9135 - val_loss: 0.0983 - val_accuracy: 0.9500\n",
      "Epoch 25/25\n",
      "4/4 [==============================] - 0s 103ms/step - loss: 0.1381 - accuracy: 0.9519 - val_loss: 0.0308 - val_accuracy: 1.0000\n"
     ]
    },
    {
     "data": {
      "text/plain": [
       "<keras.callbacks.History at 0x1f63bcbd8d0>"
      ]
     },
     "execution_count": 13,
     "metadata": {},
     "output_type": "execute_result"
    }
   ],
   "source": [
    "cnn.fit(x = training_set,\n",
    "        validation_data = test_set,\n",
    "        epochs = 25)"
   ]
  },
  {
   "attachments": {},
   "cell_type": "markdown",
   "metadata": {},
   "source": [
    "## Part 4 - Making a single prediction"
   ]
  },
  {
   "attachments": {},
   "cell_type": "markdown",
   "metadata": {},
   "source": [
    "By using the \"np.expand_dims\" function, we expand the dimension of the input dataset. This is necessary to send a group of examples instead of a single instance to the model. In this example, the axis=0 parameter specifies the index of the axis to be expanded."
   ]
  },
  {
   "attachments": {},
   "cell_type": "markdown",
   "metadata": {},
   "source": [
    "### In this project, I used the PIL library because I couldn't directly resize the image when using the keras.preprocessing.image.load_img() method."
   ]
  },
  {
   "cell_type": "code",
   "execution_count": 14,
   "metadata": {},
   "outputs": [
    {
     "name": "stdout",
     "output_type": "stream",
     "text": [
      "1/1 [==============================] - 0s 69ms/step\n"
     ]
    }
   ],
   "source": [
    "import numpy as np\n",
    "from keras.preprocessing import image\n",
    "from PIL import Image\n",
    "import numpy as np\n",
    "from keras.preprocessing import image\n",
    "\n",
    "test_image = Image.open('X/row-6-column-2.jpg')\n",
    "test_image = test_image.resize((64, 64))  # Resize the image\n",
    "test_image = np.array(test_image)\n",
    "test_image = np.expand_dims(test_image, axis=0)\n",
    "\n",
    "result = cnn.predict(test_image)\n",
    "training_set.class_indices\n",
    "if result[0][0] == 1:\n",
    "    prediction = 'no glasses'\n",
    "else:\n",
    "    prediction = 'glasses'"
   ]
  },
  {
   "cell_type": "code",
   "execution_count": 15,
   "metadata": {},
   "outputs": [
    {
     "data": {
      "text/plain": [
       "'glasses'"
      ]
     },
     "execution_count": 15,
     "metadata": {},
     "output_type": "execute_result"
    }
   ],
   "source": [
    "prediction"
   ]
  }
 ],
 "metadata": {
  "kernelspec": {
   "display_name": "Python 3 (ipykernel)",
   "language": "python",
   "name": "python3"
  },
  "language_info": {
   "codemirror_mode": {
    "name": "ipython",
    "version": 3
   },
   "file_extension": ".py",
   "mimetype": "text/x-python",
   "name": "python",
   "nbconvert_exporter": "python",
   "pygments_lexer": "ipython3",
   "version": "3.10.5"
  }
 },
 "nbformat": 4,
 "nbformat_minor": 2
}
